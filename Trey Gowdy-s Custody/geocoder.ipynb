{
 "cells": [
  {
   "cell_type": "code",
   "execution_count": 2,
   "metadata": {
    "collapsed": false
   },
   "outputs": [
    {
     "name": "stdout",
     "output_type": "stream",
     "text": [
      "Requirement already satisfied: geopy in c:\\users\\sanchari chowdhuri\\anaconda2\\lib\\site-packages\n"
     ]
    }
   ],
   "source": [
    "! pip install geopy"
   ]
  },
  {
   "cell_type": "code",
   "execution_count": 1,
   "metadata": {
    "collapsed": true
   },
   "outputs": [],
   "source": [
    "import pandas as pd"
   ]
  },
  {
   "cell_type": "code",
   "execution_count": 2,
   "metadata": {
    "collapsed": false
   },
   "outputs": [
    {
     "data": {
      "text/plain": [
       "519"
      ]
     },
     "execution_count": 2,
     "metadata": {},
     "output_type": "execute_result"
    }
   ],
   "source": [
    "#importing  combined dataframe\n",
    "\n",
    "df1=pd.read_csv(\"TreyGowdyCustody51.csv\")\n",
    "#df=df1.head(120)\n",
    "loc_df=df1['user_location']\n",
    "len(loc_df)\n",
    "#loc_df[40:60]"
   ]
  },
  {
   "cell_type": "code",
   "execution_count": 3,
   "metadata": {
    "collapsed": true
   },
   "outputs": [],
   "source": [
    "import time\n"
   ]
  },
  {
   "cell_type": "code",
   "execution_count": 4,
   "metadata": {
    "collapsed": false
   },
   "outputs": [
    {
     "name": "stdout",
     "output_type": "stream",
     "text": [
      "1\n",
      "2\n",
      "3\n",
      "4\n",
      "5\n",
      "6\n",
      "7\n",
      "8\n",
      "9\n",
      "10\n",
      "11\n",
      "12\n",
      "13\n",
      "14\n",
      "15\n",
      "16\n",
      "17\n",
      "18\n",
      "19\n",
      "20\n",
      "21\n",
      "22\n",
      "23\n",
      "24\n",
      "25\n",
      "26\n",
      "27\n",
      "28\n",
      "29\n",
      "30\n",
      "31\n",
      "32\n",
      "33\n",
      "34\n",
      "35\n",
      "36\n",
      "37\n",
      "38\n",
      "39\n",
      "40\n",
      "41\n",
      "42\n",
      "43\n",
      "44\n",
      "45\n",
      "46\n",
      "47\n",
      "48\n",
      "49\n",
      "50\n",
      "51\n",
      "52\n",
      "53\n",
      "54\n",
      "55\n",
      "56\n",
      "57\n",
      "58\n",
      "59\n",
      "60\n",
      "61\n",
      "62\n",
      "63\n",
      "64\n",
      "65\n",
      "66\n",
      "67\n",
      "68\n",
      "69\n",
      "70\n",
      "71\n",
      "72\n",
      "73\n",
      "74\n",
      "75\n",
      "76\n",
      "77\n",
      "78\n",
      "79\n",
      "80\n",
      "81\n",
      "82\n",
      "83\n",
      "84\n",
      "85\n",
      "86\n",
      "87\n",
      "88\n",
      "89\n",
      "90\n",
      "91\n",
      "92\n",
      "93\n",
      "94\n",
      "95\n",
      "96\n",
      "97\n",
      "98\n",
      "99\n",
      "100\n",
      "101\n",
      "102\n",
      "103\n",
      "104\n",
      "105\n"
     ]
    },
    {
     "ename": "GeocoderTimedOut",
     "evalue": "Service timed out",
     "output_type": "error",
     "traceback": [
      "\u001b[0;31m---------------------------------------------------------------------------\u001b[0m",
      "\u001b[0;31mGeocoderTimedOut\u001b[0m                          Traceback (most recent call last)",
      "\u001b[0;32m<ipython-input-4-304f5103262d>\u001b[0m in \u001b[0;36m<module>\u001b[0;34m()\u001b[0m\n\u001b[1;32m      5\u001b[0m \u001b[1;31m#d = geolocator.geocode()\u001b[0m\u001b[1;33m\u001b[0m\u001b[1;33m\u001b[0m\u001b[0m\n\u001b[1;32m      6\u001b[0m \u001b[1;32mfor\u001b[0m \u001b[0mcity\u001b[0m \u001b[1;32min\u001b[0m \u001b[0mloc_df\u001b[0m\u001b[1;33m:\u001b[0m\u001b[1;33m\u001b[0m\u001b[0m\n\u001b[0;32m----> 7\u001b[0;31m         \u001b[0mloc\u001b[0m \u001b[1;33m=\u001b[0m \u001b[0mgeolocator\u001b[0m\u001b[1;33m.\u001b[0m\u001b[0mgeocode\u001b[0m\u001b[1;33m(\u001b[0m\u001b[0mcity\u001b[0m\u001b[1;33m)\u001b[0m\u001b[1;33m\u001b[0m\u001b[0m\n\u001b[0m\u001b[1;32m      8\u001b[0m         \u001b[0mappended_data\u001b[0m\u001b[1;33m.\u001b[0m\u001b[0mappend\u001b[0m\u001b[1;33m(\u001b[0m\u001b[0mloc\u001b[0m\u001b[1;33m)\u001b[0m\u001b[1;33m\u001b[0m\u001b[0m\n\u001b[1;32m      9\u001b[0m         \u001b[1;32mprint\u001b[0m \u001b[0mlen\u001b[0m\u001b[1;33m(\u001b[0m\u001b[0mappended_data\u001b[0m\u001b[1;33m)\u001b[0m\u001b[1;33m\u001b[0m\u001b[0m\n",
      "\u001b[0;32mC:\\Users\\Sanchari Chowdhuri\\Anaconda2\\lib\\site-packages\\geopy\\geocoders\\osm.pyc\u001b[0m in \u001b[0;36mgeocode\u001b[0;34m(self, query, exactly_one, timeout, addressdetails, language, geometry)\u001b[0m\n\u001b[1;32m    191\u001b[0m         \u001b[0mlogger\u001b[0m\u001b[1;33m.\u001b[0m\u001b[0mdebug\u001b[0m\u001b[1;33m(\u001b[0m\u001b[1;34m\"%s.geocode: %s\"\u001b[0m\u001b[1;33m,\u001b[0m \u001b[0mself\u001b[0m\u001b[1;33m.\u001b[0m\u001b[0m__class__\u001b[0m\u001b[1;33m.\u001b[0m\u001b[0m__name__\u001b[0m\u001b[1;33m,\u001b[0m \u001b[0murl\u001b[0m\u001b[1;33m)\u001b[0m\u001b[1;33m\u001b[0m\u001b[0m\n\u001b[1;32m    192\u001b[0m         return self._parse_json(\n\u001b[0;32m--> 193\u001b[0;31m             \u001b[0mself\u001b[0m\u001b[1;33m.\u001b[0m\u001b[0m_call_geocoder\u001b[0m\u001b[1;33m(\u001b[0m\u001b[0murl\u001b[0m\u001b[1;33m,\u001b[0m \u001b[0mtimeout\u001b[0m\u001b[1;33m=\u001b[0m\u001b[0mtimeout\u001b[0m\u001b[1;33m)\u001b[0m\u001b[1;33m,\u001b[0m \u001b[0mexactly_one\u001b[0m\u001b[1;33m\u001b[0m\u001b[0m\n\u001b[0m\u001b[1;32m    194\u001b[0m         )\n\u001b[1;32m    195\u001b[0m \u001b[1;33m\u001b[0m\u001b[0m\n",
      "\u001b[0;32mC:\\Users\\Sanchari Chowdhuri\\Anaconda2\\lib\\site-packages\\geopy\\geocoders\\base.pyc\u001b[0m in \u001b[0;36m_call_geocoder\u001b[0;34m(self, url, timeout, raw, requester, deserializer, **kwargs)\u001b[0m\n\u001b[1;32m    168\u001b[0m             \u001b[1;32melif\u001b[0m \u001b[0misinstance\u001b[0m\u001b[1;33m(\u001b[0m\u001b[0merror\u001b[0m\u001b[1;33m,\u001b[0m \u001b[0mSSLError\u001b[0m\u001b[1;33m)\u001b[0m\u001b[1;33m:\u001b[0m\u001b[1;33m\u001b[0m\u001b[0m\n\u001b[1;32m    169\u001b[0m                 \u001b[1;32mif\u001b[0m \u001b[1;34m\"timed out\"\u001b[0m \u001b[1;32min\u001b[0m \u001b[0mmessage\u001b[0m\u001b[1;33m:\u001b[0m\u001b[1;33m\u001b[0m\u001b[0m\n\u001b[0;32m--> 170\u001b[0;31m                     \u001b[1;32mraise\u001b[0m \u001b[0mGeocoderTimedOut\u001b[0m\u001b[1;33m(\u001b[0m\u001b[1;34m'Service timed out'\u001b[0m\u001b[1;33m)\u001b[0m\u001b[1;33m\u001b[0m\u001b[0m\n\u001b[0m\u001b[1;32m    171\u001b[0m             \u001b[1;32mraise\u001b[0m \u001b[0mGeocoderServiceError\u001b[0m\u001b[1;33m(\u001b[0m\u001b[0mmessage\u001b[0m\u001b[1;33m)\u001b[0m\u001b[1;33m\u001b[0m\u001b[0m\n\u001b[1;32m    172\u001b[0m \u001b[1;33m\u001b[0m\u001b[0m\n",
      "\u001b[0;31mGeocoderTimedOut\u001b[0m: Service timed out"
     ]
    }
   ],
   "source": [
    "#geocoding data\n",
    "from geopy.geocoders import Nominatim\n",
    "geolocator = Nominatim()\n",
    "appended_data = []\n",
    "#d = geolocator.geocode()\n",
    "for city in loc_df:\n",
    "        loc = geolocator.geocode(city)\n",
    "        appended_data.append(loc)\n",
    "        print len(appended_data)\n",
    "        time.sleep(1)"
   ]
  },
  {
   "cell_type": "code",
   "execution_count": 5,
   "metadata": {
    "collapsed": false
   },
   "outputs": [
    {
     "data": {
      "text/plain": [
       "105"
      ]
     },
     "execution_count": 5,
     "metadata": {},
     "output_type": "execute_result"
    }
   ],
   "source": [
    "len(appended_data)"
   ]
  },
  {
   "cell_type": "code",
   "execution_count": 6,
   "metadata": {
    "collapsed": false
   },
   "outputs": [
    {
     "data": {
      "text/html": [
       "<div>\n",
       "<table border=\"1\" class=\"dataframe\">\n",
       "  <thead>\n",
       "    <tr style=\"text-align: right;\">\n",
       "      <th></th>\n",
       "      <th>Geocoded Location</th>\n",
       "    </tr>\n",
       "  </thead>\n",
       "  <tbody>\n",
       "    <tr>\n",
       "      <th>0</th>\n",
       "      <td>(Nangarhar ننگرهار, افغانستان, (34.220389, 70....</td>\n",
       "    </tr>\n",
       "    <tr>\n",
       "      <th>1</th>\n",
       "      <td>(Nangarhar ننگرهار, افغانستان, (34.220389, 70....</td>\n",
       "    </tr>\n",
       "    <tr>\n",
       "      <th>2</th>\n",
       "      <td>(Oregon, United States of America, (43.9792797...</td>\n",
       "    </tr>\n",
       "    <tr>\n",
       "      <th>3</th>\n",
       "      <td>(Oregon, United States of America, (43.9792797...</td>\n",
       "    </tr>\n",
       "    <tr>\n",
       "      <th>4</th>\n",
       "      <td>None</td>\n",
       "    </tr>\n",
       "    <tr>\n",
       "      <th>5</th>\n",
       "      <td>(Pensacola, Escambia County, Florida, United S...</td>\n",
       "    </tr>\n",
       "    <tr>\n",
       "      <th>6</th>\n",
       "      <td>(Miami, Gammeltorv, Kødbyen, Vesterbro, Københ...</td>\n",
       "    </tr>\n",
       "    <tr>\n",
       "      <th>7</th>\n",
       "      <td>None</td>\n",
       "    </tr>\n",
       "    <tr>\n",
       "      <th>8</th>\n",
       "      <td>(Nangarhar ننگرهار, افغانستان, (34.220389, 70....</td>\n",
       "    </tr>\n",
       "    <tr>\n",
       "      <th>9</th>\n",
       "      <td>(Nangarhar ننگرهار, افغانستان, (34.220389, 70....</td>\n",
       "    </tr>\n",
       "  </tbody>\n",
       "</table>\n",
       "</div>"
      ],
      "text/plain": [
       "                                   Geocoded Location\n",
       "0  (Nangarhar ننگرهار, افغانستان, (34.220389, 70....\n",
       "1  (Nangarhar ننگرهار, افغانستان, (34.220389, 70....\n",
       "2  (Oregon, United States of America, (43.9792797...\n",
       "3  (Oregon, United States of America, (43.9792797...\n",
       "4                                               None\n",
       "5  (Pensacola, Escambia County, Florida, United S...\n",
       "6  (Miami, Gammeltorv, Kødbyen, Vesterbro, Københ...\n",
       "7                                               None\n",
       "8  (Nangarhar ننگرهار, افغانستان, (34.220389, 70....\n",
       "9  (Nangarhar ننگرهار, افغانستان, (34.220389, 70...."
      ]
     },
     "execution_count": 6,
     "metadata": {},
     "output_type": "execute_result"
    }
   ],
   "source": [
    "#saving it in dataframe\n",
    "G_df = pd.DataFrame({'Geocoded Location':appended_data})\n",
    "G_df.head(10)"
   ]
  },
  {
   "cell_type": "code",
   "execution_count": 7,
   "metadata": {
    "collapsed": false
   },
   "outputs": [],
   "source": [
    "\n",
    "commentsnew_df=G_df['Geocoded Location']"
   ]
  },
  {
   "cell_type": "code",
   "execution_count": 8,
   "metadata": {
    "collapsed": true
   },
   "outputs": [],
   "source": [
    "#saving dataframe in csv\n",
    "G_df.to_csv(\"location.csv\", index=False,encoding ='utf8')"
   ]
  },
  {
   "cell_type": "code",
   "execution_count": 9,
   "metadata": {
    "collapsed": true
   },
   "outputs": [],
   "source": [
    "#readig csv\n",
    "df2=pd.read_csv(\"location.csv\")"
   ]
  },
  {
   "cell_type": "code",
   "execution_count": 10,
   "metadata": {
    "collapsed": false
   },
   "outputs": [
    {
     "data": {
      "text/plain": [
       "0      (Nangarhar ننگرهار, افغانستان, (34.220389, 70....\n",
       "1      (Nangarhar ننگرهار, افغانستان, (34.220389, 70....\n",
       "2      (Oregon, United States of America, (43.9792797...\n",
       "3      (Oregon, United States of America, (43.9792797...\n",
       "4                                                    nan\n",
       "5      (Pensacola, Escambia County, Florida, United S...\n",
       "6      (Miami, Gammeltorv, Kødbyen, Vesterbro, Københ...\n",
       "7                                                    nan\n",
       "8      (Nangarhar ننگرهار, افغانستان, (34.220389, 70....\n",
       "9      (Nangarhar ننگرهار, افغانستان, (34.220389, 70....\n",
       "10     (Nangarhar ننگرهار, افغانستان, (34.220389, 70....\n",
       "11     (Earth, Lamb County, Texas, United States of A...\n",
       "12     (Minnesota, United States of America, (45.9896...\n",
       "13     (Florida, United States of America, (27.756766...\n",
       "14     (Gardiner, Kennebec County, Maine, United Stat...\n",
       "15                                                   nan\n",
       "16     (Montgomery, Montgomery County, Alabama, Unite...\n",
       "17     (Nangarhar ننگرهار, افغانستان, (34.220389, 70....\n",
       "18                                                   nan\n",
       "19     (Nangarhar ننگرهار, افغانستان, (34.220389, 70....\n",
       "20     (Nangarhar ننگرهار, افغانستان, (34.220389, 70....\n",
       "21     (Norcal Road, Nunawading, City of Whitehorse, ...\n",
       "22     (Cork, County Cork, Munster, Ireland, (51.8979...\n",
       "23     (Nangarhar ننگرهار, افغانستان, (34.220389, 70....\n",
       "24     (Nangarhar ننگرهار, افغانستان, (34.220389, 70....\n",
       "25     (Nangarhar ننگرهار, افغانستان, (34.220389, 70....\n",
       "26     (Arizona, United States of America, (34.395342...\n",
       "27     (Nangarhar ننگرهار, افغانستان, (34.220389, 70....\n",
       "28                                                   nan\n",
       "29                                                   nan\n",
       "                             ...                        \n",
       "75     (Eastern Channel, Oak Island, Brunswick County...\n",
       "76                                                   nan\n",
       "77     (Nangarhar ننگرهار, افغانستان, (34.220389, 70....\n",
       "78     (Fort Lauderdale, Broward County, Florida, Uni...\n",
       "79     (Nangarhar ننگرهار, افغانستان, (34.220389, 70....\n",
       "80     (NYC, New York, United States of America, (40....\n",
       "81     (America, Pereira, Risaralda, Colombia, (4.818...\n",
       "82     (Nangarhar ننگرهار, افغانستان, (34.220389, 70....\n",
       "83     (South Carolina, United States of America, (33...\n",
       "84     (Florida, United States of America, (27.756766...\n",
       "85     (Tennessee, United States of America, (35.7730...\n",
       "86     (Washington, United States of America, (47.286...\n",
       "87     (Nangarhar ننگرهار, افغانستان, (34.220389, 70....\n",
       "88     (Michigan, United States of America, (43.62119...\n",
       "89     (Bukit Gambier, George Town, PNG, Malaysia, (5...\n",
       "90     (Florida, United States of America, (27.756766...\n",
       "91     (Nangarhar ننگرهار, افغانستان, (34.220389, 70....\n",
       "92                                                   nan\n",
       "93     (Nangarhar ننگرهار, افغانستان, (34.220389, 70....\n",
       "94                                                   nan\n",
       "95     (Ramsay Number One Mine, County Road 57, Routt...\n",
       "96     (Nangarhar ننگرهار, افغانستان, (34.220389, 70....\n",
       "97     (Nangarhar ننگرهار, افغانستان, (34.220389, 70....\n",
       "98     (Nangarhar ننگرهار, افغانستان, (34.220389, 70....\n",
       "99     (United States of America, (39.7837304, -100.4...\n",
       "100    (Good Ole Boy Road, Union Hill, Denton County,...\n",
       "101    (United States of America, (39.7837304, -100.4...\n",
       "102    (Milford, Clermont County, Ohio, United States...\n",
       "103    (United States of America, (39.7837304, -100.4...\n",
       "104    (United States of America, (39.7837304, -100.4...\n",
       "Name: Geocoded Location, dtype: object"
      ]
     },
     "execution_count": 10,
     "metadata": {},
     "output_type": "execute_result"
    }
   ],
   "source": [
    "#converting entire dataframe in string\n",
    "df2['Geocoded Location'].apply(str)"
   ]
  },
  {
   "cell_type": "code",
   "execution_count": 11,
   "metadata": {
    "collapsed": true
   },
   "outputs": [],
   "source": [
    "#string slicing based on first word\n",
    "df2['Geocoded Location'] = df2['Geocoded Location'].astype(str)\n",
    "\n",
    "#but it remove numbers \n",
    "df2['Geocoded Location'] = df2['Geocoded Location'].str.extract('([a-zA-Z ]+)', expand=False).str.strip()"
   ]
  },
  {
   "cell_type": "code",
   "execution_count": 12,
   "metadata": {
    "collapsed": false
   },
   "outputs": [
    {
     "data": {
      "text/html": [
       "<div>\n",
       "<table border=\"1\" class=\"dataframe\">\n",
       "  <thead>\n",
       "    <tr style=\"text-align: right;\">\n",
       "      <th></th>\n",
       "      <th>Geocoded Location</th>\n",
       "    </tr>\n",
       "  </thead>\n",
       "  <tbody>\n",
       "    <tr>\n",
       "      <th>0</th>\n",
       "      <td>Nangarhar</td>\n",
       "    </tr>\n",
       "    <tr>\n",
       "      <th>1</th>\n",
       "      <td>Nangarhar</td>\n",
       "    </tr>\n",
       "    <tr>\n",
       "      <th>2</th>\n",
       "      <td>Oregon</td>\n",
       "    </tr>\n",
       "    <tr>\n",
       "      <th>3</th>\n",
       "      <td>Oregon</td>\n",
       "    </tr>\n",
       "    <tr>\n",
       "      <th>4</th>\n",
       "      <td>nan</td>\n",
       "    </tr>\n",
       "  </tbody>\n",
       "</table>\n",
       "</div>"
      ],
      "text/plain": [
       "  Geocoded Location\n",
       "0         Nangarhar\n",
       "1         Nangarhar\n",
       "2            Oregon\n",
       "3            Oregon\n",
       "4               nan"
      ]
     },
     "execution_count": 12,
     "metadata": {},
     "output_type": "execute_result"
    }
   ],
   "source": [
    "df2.head(5)"
   ]
  },
  {
   "cell_type": "code",
   "execution_count": 13,
   "metadata": {
    "collapsed": false
   },
   "outputs": [
    {
     "data": {
      "text/html": [
       "<div>\n",
       "<table border=\"1\" class=\"dataframe\">\n",
       "  <thead>\n",
       "    <tr style=\"text-align: right;\">\n",
       "      <th></th>\n",
       "      <th>id</th>\n",
       "      <th>text</th>\n",
       "      <th>created_at</th>\n",
       "      <th>retweet_count</th>\n",
       "      <th>favorite_count</th>\n",
       "      <th>source</th>\n",
       "      <th>user_id</th>\n",
       "      <th>user_screen_name</th>\n",
       "      <th>user_name</th>\n",
       "      <th>user_created_at</th>\n",
       "      <th>user_description</th>\n",
       "      <th>user_followers_count</th>\n",
       "      <th>user_friends_count</th>\n",
       "      <th>user_location</th>\n",
       "      <th>geo_enabled</th>\n",
       "      <th>time_zone</th>\n",
       "      <th>Geocoded Location</th>\n",
       "    </tr>\n",
       "  </thead>\n",
       "  <tbody>\n",
       "    <tr>\n",
       "      <th>0</th>\n",
       "      <td>859046057728200704</td>\n",
       "      <td>BREAKING! TREY GOWDY AND FAMILY FORCED INTO PR...</td>\n",
       "      <td>2017-05-01 14:05:15</td>\n",
       "      <td>0</td>\n",
       "      <td>0</td>\n",
       "      <td>Twitter for iPad</td>\n",
       "      <td>845017725219061762</td>\n",
       "      <td>GarverickJanine</td>\n",
       "      <td>Janine Garverick</td>\n",
       "      <td>2017-03-23 21:01:40</td>\n",
       "      <td>NaN</td>\n",
       "      <td>3</td>\n",
       "      <td>2</td>\n",
       "      <td>NaN</td>\n",
       "      <td>False</td>\n",
       "      <td>NaN</td>\n",
       "      <td>Nangarhar</td>\n",
       "    </tr>\n",
       "    <tr>\n",
       "      <th>1</th>\n",
       "      <td>859011203791769600</td>\n",
       "      <td>RT @Mike94002447: Was Trey Gowdy Forced Into P...</td>\n",
       "      <td>2017-05-01 11:46:45</td>\n",
       "      <td>1</td>\n",
       "      <td>0</td>\n",
       "      <td>Twitter Web Client</td>\n",
       "      <td>822814149004627969</td>\n",
       "      <td>Mike94002447</td>\n",
       "      <td>Mike</td>\n",
       "      <td>2017-01-21 14:32:35</td>\n",
       "      <td>Combat Veteran for Trump</td>\n",
       "      <td>630</td>\n",
       "      <td>640</td>\n",
       "      <td>NaN</td>\n",
       "      <td>False</td>\n",
       "      <td>NaN</td>\n",
       "      <td>Nangarhar</td>\n",
       "    </tr>\n",
       "  </tbody>\n",
       "</table>\n",
       "</div>"
      ],
      "text/plain": [
       "                   id                                               text  \\\n",
       "0  859046057728200704  BREAKING! TREY GOWDY AND FAMILY FORCED INTO PR...   \n",
       "1  859011203791769600  RT @Mike94002447: Was Trey Gowdy Forced Into P...   \n",
       "\n",
       "            created_at  retweet_count  favorite_count              source  \\\n",
       "0  2017-05-01 14:05:15              0               0    Twitter for iPad   \n",
       "1  2017-05-01 11:46:45              1               0  Twitter Web Client   \n",
       "\n",
       "              user_id user_screen_name         user_name      user_created_at  \\\n",
       "0  845017725219061762  GarverickJanine  Janine Garverick  2017-03-23 21:01:40   \n",
       "1  822814149004627969     Mike94002447              Mike  2017-01-21 14:32:35   \n",
       "\n",
       "           user_description  user_followers_count  user_friends_count  \\\n",
       "0                       NaN                     3                   2   \n",
       "1  Combat Veteran for Trump                   630                 640   \n",
       "\n",
       "  user_location geo_enabled time_zone Geocoded Location  \n",
       "0           NaN       False       NaN         Nangarhar  \n",
       "1           NaN       False       NaN         Nangarhar  "
      ]
     },
     "execution_count": 13,
     "metadata": {},
     "output_type": "execute_result"
    }
   ],
   "source": [
    "#comparing geocoded and sctual location\n",
    "df_col_merged =pd.concat([df1, df2], axis=1)\n",
    "df_col_merged.head(2)"
   ]
  },
  {
   "cell_type": "code",
   "execution_count": null,
   "metadata": {
    "collapsed": true
   },
   "outputs": [],
   "source": []
  },
  {
   "cell_type": "code",
   "execution_count": null,
   "metadata": {
    "collapsed": true
   },
   "outputs": [],
   "source": []
  }
 ],
 "metadata": {
  "anaconda-cloud": {},
  "kernelspec": {
   "display_name": "Python [default]",
   "language": "python",
   "name": "python2"
  },
  "language_info": {
   "codemirror_mode": {
    "name": "ipython",
    "version": 2
   },
   "file_extension": ".py",
   "mimetype": "text/x-python",
   "name": "python",
   "nbconvert_exporter": "python",
   "pygments_lexer": "ipython2",
   "version": "2.7.12"
  }
 },
 "nbformat": 4,
 "nbformat_minor": 1
}
