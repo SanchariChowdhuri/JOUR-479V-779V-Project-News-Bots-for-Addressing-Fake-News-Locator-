{
 "cells": [
  {
   "cell_type": "code",
   "execution_count": 1,
   "metadata": {
    "collapsed": false
   },
   "outputs": [],
   "source": [
    "#importing libraries\n",
    "import pandas as pd\n",
    "import numpy as np\n",
    "##import dataset\n",
    "dataset=pd.read_csv(\"Combined.csv\",parse_dates=[\"created_at\"])\n",
    "\n",
    "##Segregate timestamp to date\n",
    "dataset['new_date'] = [d.date() for d in dataset['created_at']]\n",
    "dataset['new_time'] = [d.time() for d in dataset['created_at']]\n",
    "#dataset.head(2)\n",
    "group_by_state = dataset.groupby(['user_location']).count()\n",
    "#grouping data and retaining only one column\n",
    "df1 = group_by_state[['id']]\n",
    "#renaming column\n",
    "df2=df1.rename(columns = {'id':'number of fake tweets'})\n",
    "df3=df2.reset_index()\n"
   ]
  },
  {
   "cell_type": "code",
   "execution_count": 4,
   "metadata": {
    "collapsed": true
   },
   "outputs": [],
   "source": [
    "#writting file to csv\n",
    "df3.to_csv(\"statewise fake tweets2.csv\", index=False)"
   ]
  },
  {
   "cell_type": "code",
   "execution_count": 2,
   "metadata": {
    "collapsed": false
   },
   "outputs": [
    {
     "name": "stderr",
     "output_type": "stream",
     "text": [
      "C:\\Users\\Sanchari Chowdhuri\\Anaconda2\\lib\\site-packages\\ipykernel\\__main__.py:4: FutureWarning: by argument to sort_index is deprecated, pls use .sort_values(by=...)\n"
     ]
    },
    {
     "data": {
      "text/html": [
       "<div>\n",
       "<table border=\"1\" class=\"dataframe\">\n",
       "  <thead>\n",
       "    <tr style=\"text-align: right;\">\n",
       "      <th></th>\n",
       "      <th>State</th>\n",
       "      <th>Poplation</th>\n",
       "      <th>multiplier</th>\n",
       "      <th>Number of fake news</th>\n",
       "      <th>normalised activity</th>\n",
       "      <th>Reporter name</th>\n",
       "      <th>Reporter handle</th>\n",
       "      <th>organisation</th>\n",
       "    </tr>\n",
       "  </thead>\n",
       "  <tbody>\n",
       "    <tr>\n",
       "      <th>25</th>\n",
       "      <td>NV</td>\n",
       "      <td>2,940,058</td>\n",
       "      <td>0.000340129</td>\n",
       "      <td>8.0</td>\n",
       "      <td>0.002721032</td>\n",
       "      <td>Jesse Granger</td>\n",
       "      <td>@JesseGranger_</td>\n",
       "      <td>Las Vegas Sun</td>\n",
       "    </tr>\n",
       "    <tr>\n",
       "      <th>0</th>\n",
       "      <td>AK</td>\n",
       "      <td>741,894</td>\n",
       "      <td>0.001347901</td>\n",
       "      <td>2.0</td>\n",
       "      <td>0.002695802</td>\n",
       "      <td>John Sharp</td>\n",
       "      <td>@JohnSharp99</td>\n",
       "      <td>Birmingham News</td>\n",
       "    </tr>\n",
       "    <tr>\n",
       "      <th>36</th>\n",
       "      <td>WI</td>\n",
       "      <td>5,778,708</td>\n",
       "      <td>0.000173049</td>\n",
       "      <td>10.0</td>\n",
       "      <td>0.00173049</td>\n",
       "      <td>Gina Barton</td>\n",
       "      <td>@writerbarton</td>\n",
       "      <td>Milwaukee Journal Sentinel</td>\n",
       "    </tr>\n",
       "    <tr>\n",
       "      <th>31</th>\n",
       "      <td>TN</td>\n",
       "      <td>6,651,194</td>\n",
       "      <td>0.000150349</td>\n",
       "      <td>10.0</td>\n",
       "      <td>0.00150349</td>\n",
       "      <td>Michael Collins</td>\n",
       "      <td>@mcollinsNEWS</td>\n",
       "      <td>The Tennessean</td>\n",
       "    </tr>\n",
       "  </tbody>\n",
       "</table>\n",
       "</div>"
      ],
      "text/plain": [
       "   State  Poplation   multiplier  Number of fake news normalised activity  \\\n",
       "25    NV  2,940,058  0.000340129                  8.0         0.002721032   \n",
       "0     AK    741,894  0.001347901                  2.0         0.002695802   \n",
       "36    WI  5,778,708  0.000173049                 10.0          0.00173049   \n",
       "31    TN  6,651,194  0.000150349                 10.0          0.00150349   \n",
       "\n",
       "      Reporter name Reporter handle                organisation  \n",
       "25    Jesse Granger  @JesseGranger_               Las Vegas Sun  \n",
       "0        John Sharp    @JohnSharp99             Birmingham News  \n",
       "36      Gina Barton   @writerbarton  Milwaukee Journal Sentinel  \n",
       "31  Michael Collins   @mcollinsNEWS              The Tennessean  "
      ]
     },
     "execution_count": 2,
     "metadata": {},
     "output_type": "execute_result"
    }
   ],
   "source": [
    "# reading normalised data\n",
    "normalised_df=pd.read_csv(\"Normalised code2.csv\")\n",
    "#sorting in descending order \n",
    "df5=normalised_df.sort_index(by=['normalised activity'], ascending=[False])\n",
    "df6=df5.head(4)\n",
    "df6"
   ]
  },
  {
   "cell_type": "code",
   "execution_count": 3,
   "metadata": {
    "collapsed": true
   },
   "outputs": [],
   "source": [
    "#bar plot for df5\n",
    "import pandas as pd\n",
    "import matplotlib\n",
    "import matplotlib.pyplot as plt\n",
    "import numpy as np\n",
    "\n",
    "# This magic function allows you to see the charts directly within the notebook. \n",
    "%matplotlib inline\n",
    "\n",
    "# This command will make the plots more attractive by adopting the common style of a different library called ggplot\n",
    "matplotlib.style.use(\"ggplot\")"
   ]
  },
  {
   "cell_type": "code",
   "execution_count": 4,
   "metadata": {
    "collapsed": false
   },
   "outputs": [
    {
     "data": {
      "text/html": [
       "<div>\n",
       "<table border=\"1\" class=\"dataframe\">\n",
       "  <thead>\n",
       "    <tr style=\"text-align: right;\">\n",
       "      <th></th>\n",
       "      <th>State</th>\n",
       "      <th>normalised activity</th>\n",
       "    </tr>\n",
       "  </thead>\n",
       "  <tbody>\n",
       "    <tr>\n",
       "      <th>25</th>\n",
       "      <td>NV</td>\n",
       "      <td>0.002721032</td>\n",
       "    </tr>\n",
       "    <tr>\n",
       "      <th>0</th>\n",
       "      <td>AK</td>\n",
       "      <td>0.002695802</td>\n",
       "    </tr>\n",
       "    <tr>\n",
       "      <th>36</th>\n",
       "      <td>WI</td>\n",
       "      <td>0.00173049</td>\n",
       "    </tr>\n",
       "    <tr>\n",
       "      <th>31</th>\n",
       "      <td>TN</td>\n",
       "      <td>0.00150349</td>\n",
       "    </tr>\n",
       "  </tbody>\n",
       "</table>\n",
       "</div>"
      ],
      "text/plain": [
       "   State normalised activity\n",
       "25    NV         0.002721032\n",
       "0     AK         0.002695802\n",
       "36    WI          0.00173049\n",
       "31    TN          0.00150349"
      ]
     },
     "execution_count": 4,
     "metadata": {},
     "output_type": "execute_result"
    }
   ],
   "source": [
    "#creating new dataset with top 4 states and normaised twitter rate activity.\n",
    "newdf = df6.ix[:,['State','normalised activity']]\n",
    "newdf"
   ]
  },
  {
   "cell_type": "code",
   "execution_count": 5,
   "metadata": {
    "collapsed": false
   },
   "outputs": [],
   "source": [
    "#setting index\n",
    "newdf.set_index('State', inplace=True)"
   ]
  },
  {
   "cell_type": "code",
   "execution_count": 6,
   "metadata": {
    "collapsed": true
   },
   "outputs": [],
   "source": [
    "newdf=newdf.astype(float)"
   ]
  },
  {
   "cell_type": "code",
   "execution_count": 7,
   "metadata": {
    "collapsed": false
   },
   "outputs": [
    {
     "data": {
      "image/png": "[encoded data removed]",
      "text/plain": [
       "<matplotlib.figure.Figure at 0x94f5278>"
      ]
     },
     "metadata": {},
     "output_type": "display_data"
    }
   ],
   "source": [
    "#plotting graph\n",
    "plot = newdf['normalised activity'].plot.bar(title=\"Top 4 States with highest fake news activity on twitter \")\n",
    "plt.ylabel('Rate per thousand')\n",
    "fig = plot.get_figure()\n",
    "fig.savefig(\"state_wise_trend_chart2.png\")"
   ]
  },
  {
   "cell_type": "code",
   "execution_count": 8,
   "metadata": {
    "collapsed": true
   },
   "outputs": [],
   "source": [
    "# trend charts"
   ]
  },
  {
   "cell_type": "code",
   "execution_count": 9,
   "metadata": {
    "collapsed": false
   },
   "outputs": [
    {
     "data": {
      "text/html": [
       "<div>\n",
       "<table border=\"1\" class=\"dataframe\">\n",
       "  <thead>\n",
       "    <tr style=\"text-align: right;\">\n",
       "      <th></th>\n",
       "      <th></th>\n",
       "      <th>id</th>\n",
       "      <th>text</th>\n",
       "      <th>created_at</th>\n",
       "      <th>retweet_count</th>\n",
       "      <th>favorite_count</th>\n",
       "      <th>source</th>\n",
       "      <th>user_id</th>\n",
       "      <th>user_screen_name</th>\n",
       "      <th>user_name</th>\n",
       "      <th>user_created_at</th>\n",
       "      <th>user_description</th>\n",
       "      <th>user_followers_count</th>\n",
       "      <th>user_friends_count</th>\n",
       "      <th>geo_enabled</th>\n",
       "      <th>time_zone</th>\n",
       "      <th>new_time</th>\n",
       "    </tr>\n",
       "    <tr>\n",
       "      <th>user_location</th>\n",
       "      <th>new_date</th>\n",
       "      <th></th>\n",
       "      <th></th>\n",
       "      <th></th>\n",
       "      <th></th>\n",
       "      <th></th>\n",
       "      <th></th>\n",
       "      <th></th>\n",
       "      <th></th>\n",
       "      <th></th>\n",
       "      <th></th>\n",
       "      <th></th>\n",
       "      <th></th>\n",
       "      <th></th>\n",
       "      <th></th>\n",
       "      <th></th>\n",
       "      <th></th>\n",
       "    </tr>\n",
       "  </thead>\n",
       "  <tbody>\n",
       "    <tr>\n",
       "      <th rowspan=\"2\" valign=\"top\">AK</th>\n",
       "      <th>2017-04-24</th>\n",
       "      <td>1</td>\n",
       "      <td>1</td>\n",
       "      <td>1</td>\n",
       "      <td>1</td>\n",
       "      <td>1</td>\n",
       "      <td>1</td>\n",
       "      <td>1</td>\n",
       "      <td>1</td>\n",
       "      <td>1</td>\n",
       "      <td>1</td>\n",
       "      <td>1</td>\n",
       "      <td>1</td>\n",
       "      <td>1</td>\n",
       "      <td>1</td>\n",
       "      <td>1</td>\n",
       "      <td>1</td>\n",
       "    </tr>\n",
       "    <tr>\n",
       "      <th>2017-04-29</th>\n",
       "      <td>1</td>\n",
       "      <td>1</td>\n",
       "      <td>1</td>\n",
       "      <td>1</td>\n",
       "      <td>1</td>\n",
       "      <td>1</td>\n",
       "      <td>1</td>\n",
       "      <td>1</td>\n",
       "      <td>1</td>\n",
       "      <td>1</td>\n",
       "      <td>1</td>\n",
       "      <td>1</td>\n",
       "      <td>1</td>\n",
       "      <td>1</td>\n",
       "      <td>1</td>\n",
       "      <td>1</td>\n",
       "    </tr>\n",
       "    <tr>\n",
       "      <th rowspan=\"3\" valign=\"top\">AL</th>\n",
       "      <th>2017-04-24</th>\n",
       "      <td>1</td>\n",
       "      <td>1</td>\n",
       "      <td>1</td>\n",
       "      <td>1</td>\n",
       "      <td>1</td>\n",
       "      <td>1</td>\n",
       "      <td>1</td>\n",
       "      <td>1</td>\n",
       "      <td>1</td>\n",
       "      <td>1</td>\n",
       "      <td>0</td>\n",
       "      <td>1</td>\n",
       "      <td>1</td>\n",
       "      <td>1</td>\n",
       "      <td>0</td>\n",
       "      <td>1</td>\n",
       "    </tr>\n",
       "    <tr>\n",
       "      <th>2017-04-25</th>\n",
       "      <td>1</td>\n",
       "      <td>1</td>\n",
       "      <td>1</td>\n",
       "      <td>1</td>\n",
       "      <td>1</td>\n",
       "      <td>1</td>\n",
       "      <td>1</td>\n",
       "      <td>1</td>\n",
       "      <td>1</td>\n",
       "      <td>1</td>\n",
       "      <td>1</td>\n",
       "      <td>1</td>\n",
       "      <td>1</td>\n",
       "      <td>1</td>\n",
       "      <td>1</td>\n",
       "      <td>1</td>\n",
       "    </tr>\n",
       "    <tr>\n",
       "      <th>2017-04-28</th>\n",
       "      <td>1</td>\n",
       "      <td>1</td>\n",
       "      <td>1</td>\n",
       "      <td>1</td>\n",
       "      <td>1</td>\n",
       "      <td>1</td>\n",
       "      <td>1</td>\n",
       "      <td>1</td>\n",
       "      <td>1</td>\n",
       "      <td>1</td>\n",
       "      <td>0</td>\n",
       "      <td>1</td>\n",
       "      <td>1</td>\n",
       "      <td>1</td>\n",
       "      <td>0</td>\n",
       "      <td>1</td>\n",
       "    </tr>\n",
       "  </tbody>\n",
       "</table>\n",
       "</div>"
      ],
      "text/plain": [
       "                          id  text  created_at  retweet_count  favorite_count  \\\n",
       "user_location new_date                                                          \n",
       "AK            2017-04-24   1     1           1              1               1   \n",
       "              2017-04-29   1     1           1              1               1   \n",
       "AL            2017-04-24   1     1           1              1               1   \n",
       "              2017-04-25   1     1           1              1               1   \n",
       "              2017-04-28   1     1           1              1               1   \n",
       "\n",
       "                          source  user_id  user_screen_name  user_name  \\\n",
       "user_location new_date                                                   \n",
       "AK            2017-04-24       1        1                 1          1   \n",
       "              2017-04-29       1        1                 1          1   \n",
       "AL            2017-04-24       1        1                 1          1   \n",
       "              2017-04-25       1        1                 1          1   \n",
       "              2017-04-28       1        1                 1          1   \n",
       "\n",
       "                          user_created_at  user_description  \\\n",
       "user_location new_date                                        \n",
       "AK            2017-04-24                1                 1   \n",
       "              2017-04-29                1                 1   \n",
       "AL            2017-04-24                1                 0   \n",
       "              2017-04-25                1                 1   \n",
       "              2017-04-28                1                 0   \n",
       "\n",
       "                          user_followers_count  user_friends_count  \\\n",
       "user_location new_date                                               \n",
       "AK            2017-04-24                     1                   1   \n",
       "              2017-04-29                     1                   1   \n",
       "AL            2017-04-24                     1                   1   \n",
       "              2017-04-25                     1                   1   \n",
       "              2017-04-28                     1                   1   \n",
       "\n",
       "                          geo_enabled  time_zone  new_time  \n",
       "user_location new_date                                      \n",
       "AK            2017-04-24            1          1         1  \n",
       "              2017-04-29            1          1         1  \n",
       "AL            2017-04-24            1          0         1  \n",
       "              2017-04-25            1          1         1  \n",
       "              2017-04-28            1          0         1  "
      ]
     },
     "execution_count": 9,
     "metadata": {},
     "output_type": "execute_result"
    }
   ],
   "source": [
    "#grouping dataset by states\n",
    "group= dataset.groupby(['user_location','new_date']).count()\n",
    "group.head()"
   ]
  },
  {
   "cell_type": "code",
   "execution_count": 10,
   "metadata": {
    "collapsed": true
   },
   "outputs": [],
   "source": [
    "df11 = group[['id']]"
   ]
  },
  {
   "cell_type": "code",
   "execution_count": 11,
   "metadata": {
    "collapsed": false
   },
   "outputs": [
    {
     "data": {
      "text/html": [
       "<div>\n",
       "<table border=\"1\" class=\"dataframe\">\n",
       "  <thead>\n",
       "    <tr style=\"text-align: right;\">\n",
       "      <th></th>\n",
       "      <th>user_location</th>\n",
       "      <th>new_date</th>\n",
       "      <th>number of fake tweets</th>\n",
       "    </tr>\n",
       "  </thead>\n",
       "  <tbody>\n",
       "    <tr>\n",
       "      <th>0</th>\n",
       "      <td>AK</td>\n",
       "      <td>2017-04-24</td>\n",
       "      <td>1</td>\n",
       "    </tr>\n",
       "    <tr>\n",
       "      <th>1</th>\n",
       "      <td>AK</td>\n",
       "      <td>2017-04-29</td>\n",
       "      <td>1</td>\n",
       "    </tr>\n",
       "    <tr>\n",
       "      <th>2</th>\n",
       "      <td>AL</td>\n",
       "      <td>2017-04-24</td>\n",
       "      <td>1</td>\n",
       "    </tr>\n",
       "  </tbody>\n",
       "</table>\n",
       "</div>"
      ],
      "text/plain": [
       "  user_location   new_date  number of fake tweets\n",
       "0            AK 2017-04-24                      1\n",
       "1            AK 2017-04-29                      1\n",
       "2           AL  2017-04-24                      1"
      ]
     },
     "execution_count": 11,
     "metadata": {},
     "output_type": "execute_result"
    }
   ],
   "source": [
    "df21=df11.rename(columns = {'id':'number of fake tweets'})\n",
    "df31=df21.reset_index()\n",
    "df31['new_date'] = pd.to_datetime(df31['new_date'])\n",
    "df31.head(3)"
   ]
  },
  {
   "cell_type": "code",
   "execution_count": 12,
   "metadata": {
    "collapsed": false
   },
   "outputs": [
    {
     "data": {
      "text/html": [
       "<div>\n",
       "<table border=\"1\" class=\"dataframe\">\n",
       "  <thead>\n",
       "    <tr style=\"text-align: right;\">\n",
       "      <th></th>\n",
       "      <th>State</th>\n",
       "      <th>Poplation</th>\n",
       "      <th>multiplier</th>\n",
       "      <th>Number of fake news</th>\n",
       "      <th>normalised activity</th>\n",
       "      <th>Reporter name</th>\n",
       "      <th>Reporter handle</th>\n",
       "      <th>organisation</th>\n",
       "    </tr>\n",
       "  </thead>\n",
       "  <tbody>\n",
       "    <tr>\n",
       "      <th>0</th>\n",
       "      <td>NV</td>\n",
       "      <td>2,940,058</td>\n",
       "      <td>0.000340129</td>\n",
       "      <td>8.0</td>\n",
       "      <td>0.002721032</td>\n",
       "      <td>Jesse Granger</td>\n",
       "      <td>@JesseGranger_</td>\n",
       "      <td>Las Vegas Sun</td>\n",
       "    </tr>\n",
       "    <tr>\n",
       "      <th>1</th>\n",
       "      <td>AK</td>\n",
       "      <td>741,894</td>\n",
       "      <td>0.001347901</td>\n",
       "      <td>2.0</td>\n",
       "      <td>0.002695802</td>\n",
       "      <td>John Sharp</td>\n",
       "      <td>@JohnSharp99</td>\n",
       "      <td>Birmingham News</td>\n",
       "    </tr>\n",
       "    <tr>\n",
       "      <th>2</th>\n",
       "      <td>WI</td>\n",
       "      <td>5,778,708</td>\n",
       "      <td>0.000173049</td>\n",
       "      <td>10.0</td>\n",
       "      <td>0.00173049</td>\n",
       "      <td>Gina Barton</td>\n",
       "      <td>@writerbarton</td>\n",
       "      <td>Milwaukee Journal Sentinel</td>\n",
       "    </tr>\n",
       "    <tr>\n",
       "      <th>3</th>\n",
       "      <td>TN</td>\n",
       "      <td>6,651,194</td>\n",
       "      <td>0.000150349</td>\n",
       "      <td>10.0</td>\n",
       "      <td>0.00150349</td>\n",
       "      <td>Michael Collins</td>\n",
       "      <td>@mcollinsNEWS</td>\n",
       "      <td>The Tennessean</td>\n",
       "    </tr>\n",
       "  </tbody>\n",
       "</table>\n",
       "</div>"
      ],
      "text/plain": [
       "  State  Poplation   multiplier  Number of fake news normalised activity  \\\n",
       "0    NV  2,940,058  0.000340129                  8.0         0.002721032   \n",
       "1    AK    741,894  0.001347901                  2.0         0.002695802   \n",
       "2    WI  5,778,708  0.000173049                 10.0          0.00173049   \n",
       "3    TN  6,651,194  0.000150349                 10.0          0.00150349   \n",
       "\n",
       "     Reporter name Reporter handle                organisation  \n",
       "0    Jesse Granger  @JesseGranger_               Las Vegas Sun  \n",
       "1       John Sharp    @JohnSharp99             Birmingham News  \n",
       "2      Gina Barton   @writerbarton  Milwaukee Journal Sentinel  \n",
       "3  Michael Collins   @mcollinsNEWS              The Tennessean  "
      ]
     },
     "execution_count": 12,
     "metadata": {},
     "output_type": "execute_result"
    }
   ],
   "source": [
    "#Final dataset with \n",
    "df8=df6.set_index(np.arange(len(df6.index)))\n",
    "df8"
   ]
  },
  {
   "cell_type": "code",
   "execution_count": 13,
   "metadata": {
    "collapsed": false
   },
   "outputs": [],
   "source": [
    "#Variables storing reporter names based on state\n",
    "reporter1=df8.iloc[0]['Reporter handle']\n",
    "reporter2=df8.iloc[1]['Reporter handle']\n",
    "reporter3=df8.iloc[2]['Reporter handle']\n",
    "reporter4=df8.iloc[3]['Reporter handle']\n"
   ]
  },
  {
   "cell_type": "code",
   "execution_count": 14,
   "metadata": {
    "collapsed": true
   },
   "outputs": [],
   "source": [
    "#variables storing state name\n",
    "statename1=df8.iloc[0]['State']\n",
    "statename2=df8.iloc[1]['State']\n",
    "statename3=df8.iloc[2]['State']\n",
    "statename4=df8.iloc[3]['State']"
   ]
  },
  {
   "cell_type": "code",
   "execution_count": 15,
   "metadata": {
    "collapsed": false
   },
   "outputs": [],
   "source": [
    "statename=df8.iloc[0]['State']\n",
    "statemultiplier=df8.iloc[0]['multiplier']"
   ]
  },
  {
   "cell_type": "code",
   "execution_count": 16,
   "metadata": {
    "collapsed": false
   },
   "outputs": [
    {
     "name": "stderr",
     "output_type": "stream",
     "text": [
      "C:\\Users\\Sanchari Chowdhuri\\Anaconda2\\lib\\site-packages\\ipykernel\\__main__.py:4: SettingWithCopyWarning: \n",
      "A value is trying to be set on a copy of a slice from a DataFrame.\n",
      "Try using .loc[row_indexer,col_indexer] = value instead\n",
      "\n",
      "See the caveats in the documentation: http://pandas.pydata.org/pandas-docs/stable/indexing.html#indexing-view-versus-copy\n"
     ]
    },
    {
     "data": {
      "text/html": [
       "<div>\n",
       "<table border=\"1\" class=\"dataframe\">\n",
       "  <thead>\n",
       "    <tr style=\"text-align: right;\">\n",
       "      <th></th>\n",
       "      <th>user_location</th>\n",
       "      <th>new_date</th>\n",
       "      <th>number of fake tweets</th>\n",
       "      <th>activity rate</th>\n",
       "    </tr>\n",
       "  </thead>\n",
       "  <tbody>\n",
       "    <tr>\n",
       "      <th>74</th>\n",
       "      <td>NV</td>\n",
       "      <td>2017-04-25</td>\n",
       "      <td>1</td>\n",
       "      <td>0.00034</td>\n",
       "    </tr>\n",
       "    <tr>\n",
       "      <th>75</th>\n",
       "      <td>NV</td>\n",
       "      <td>2017-04-26</td>\n",
       "      <td>2</td>\n",
       "      <td>0.00068</td>\n",
       "    </tr>\n",
       "  </tbody>\n",
       "</table>\n",
       "</div>"
      ],
      "text/plain": [
       "   user_location   new_date  number of fake tweets  activity rate\n",
       "74            NV 2017-04-25                      1        0.00034\n",
       "75            NV 2017-04-26                      2        0.00068"
      ]
     },
     "execution_count": 16,
     "metadata": {},
     "output_type": "execute_result"
    }
   ],
   "source": [
    "trend_df=df31.loc[df31['user_location'] == statename]\n",
    "df31['number of fake tweets']= pd.to_numeric(df31['number of fake tweets'], errors='coerce').fillna(0)\n",
    "statemultiplier=pd.to_numeric(statemultiplier)\n",
    "trend_df['activity rate'] = df31['number of fake tweets']*statemultiplier\n",
    "trend_df.head(2)"
   ]
  },
  {
   "cell_type": "code",
   "execution_count": 17,
   "metadata": {
    "collapsed": false
   },
   "outputs": [
    {
     "data": {
      "image/png": "[encoded data removed]",
      "text/plain": [
       "<matplotlib.figure.Figure at 0x9720ac8>"
      ]
     },
     "metadata": {},
     "output_type": "display_data"
    }
   ],
   "source": [
    "#trend map for 1st state\n",
    "plot1 = trend_df.plot(x='new_date', y='activity rate',title=\"Twitter activity timeline for the story in %s.\"%(statename),figsize=(19,4))\n",
    "plt.ylabel('Rate per thousand')\n",
    "plt.xlabel('Date')\n",
    "fig1 = plot1.get_figure()\n",
    "fig1.savefig(\"NVtrend2.png\")"
   ]
  },
  {
   "cell_type": "code",
   "execution_count": 18,
   "metadata": {
    "collapsed": false
   },
   "outputs": [
    {
     "name": "stderr",
     "output_type": "stream",
     "text": [
      "C:\\Users\\Sanchari Chowdhuri\\Anaconda2\\lib\\site-packages\\ipykernel\\__main__.py:7: SettingWithCopyWarning: \n",
      "A value is trying to be set on a copy of a slice from a DataFrame.\n",
      "Try using .loc[row_indexer,col_indexer] = value instead\n",
      "\n",
      "See the caveats in the documentation: http://pandas.pydata.org/pandas-docs/stable/indexing.html#indexing-view-versus-copy\n"
     ]
    },
    {
     "data": {
      "image/png": "[encoded data removed]",
      "text/plain": [
       "<matplotlib.figure.Figure at 0x9741ef0>"
      ]
     },
     "metadata": {},
     "output_type": "display_data"
    }
   ],
   "source": [
    "#trend map for 2nd state\n",
    "statename=df8.iloc[1]['State']\n",
    "statemultiplier=df8.iloc[1]['multiplier']\n",
    "trend_df=df31.loc[df31['user_location'] == statename]\n",
    "df31['number of fake tweets']= pd.to_numeric(df31['number of fake tweets'], errors='coerce').fillna(0)\n",
    "statemultiplier=pd.to_numeric(statemultiplier)\n",
    "trend_df['activity rate'] = df31['number of fake tweets']*statemultiplier\n",
    "#trend_df\n",
    "#trend_df.plot(x='new_date', y='activity rate',title=\"Trend of fake news tweets in %s.\"%(statename),figsize=(19,4))\n",
    "plot2 = trend_df.plot(x='new_date', y='activity rate',title=\"Twitter activity timeline for the story in %s.\"%(statename2),figsize=(19,4))\n",
    "plt.ylabel('Rate per thousand')\n",
    "plt.xlabel('Date')\n",
    "fig2 = plot2.get_figure()\n",
    "fig2.savefig(\"AKtrend.png\")"
   ]
  },
  {
   "cell_type": "code",
   "execution_count": 19,
   "metadata": {
    "collapsed": false
   },
   "outputs": [
    {
     "name": "stderr",
     "output_type": "stream",
     "text": [
      "C:\\Users\\Sanchari Chowdhuri\\Anaconda2\\lib\\site-packages\\ipykernel\\__main__.py:7: SettingWithCopyWarning: \n",
      "A value is trying to be set on a copy of a slice from a DataFrame.\n",
      "Try using .loc[row_indexer,col_indexer] = value instead\n",
      "\n",
      "See the caveats in the documentation: http://pandas.pydata.org/pandas-docs/stable/indexing.html#indexing-view-versus-copy\n",
      "C:\\Users\\Sanchari Chowdhuri\\Anaconda2\\lib\\site-packages\\matplotlib\\axes\\_base.py:2903: UserWarning: Attempting to set identical left==right results\n",
      "in singular transformations; automatically expanding.\n",
      "left=736446.0, right=736446.0\n",
      "  'left=%s, right=%s') % (left, right))\n"
     ]
    },
    {
     "data": {
      "image/png": "[encoded data removed]",
      "text/plain": [
       "<matplotlib.figure.Figure at 0x97419b0>"
      ]
     },
     "metadata": {},
     "output_type": "display_data"
    }
   ],
   "source": [
    "#trend map for 3rd state\n",
    "statename=df8.iloc[2]['State']\n",
    "statemultiplier=df8.iloc[2]['multiplier']\n",
    "trend_df=df31.loc[df31['user_location'] == statename]\n",
    "df31['number of fake tweets']= pd.to_numeric(df31['number of fake tweets'], errors='coerce').fillna(0)\n",
    "statemultiplier=pd.to_numeric(statemultiplier)\n",
    "trend_df['activity rate'] = df31['number of fake tweets']*statemultiplier\n",
    "trend_df\n",
    "\n",
    "plot3 = trend_df.plot(x='new_date', y='activity rate',title=\"Twitter activity timeline for the story in %s.\"%(statename3),figsize=(19,4))\n",
    "plt.ylabel('Rate per thousand')\n",
    "plt.xlabel('Date')\n",
    "fig3 = plot3.get_figure()\n",
    "fig3.savefig(\"WItrend.png\")"
   ]
  },
  {
   "cell_type": "code",
   "execution_count": 20,
   "metadata": {
    "collapsed": false
   },
   "outputs": [
    {
     "name": "stderr",
     "output_type": "stream",
     "text": [
      "C:\\Users\\Sanchari Chowdhuri\\Anaconda2\\lib\\site-packages\\ipykernel\\__main__.py:7: SettingWithCopyWarning: \n",
      "A value is trying to be set on a copy of a slice from a DataFrame.\n",
      "Try using .loc[row_indexer,col_indexer] = value instead\n",
      "\n",
      "See the caveats in the documentation: http://pandas.pydata.org/pandas-docs/stable/indexing.html#indexing-view-versus-copy\n"
     ]
    },
    {
     "data": {
      "image/png": "[encoded data removed]",
      "text/plain": [
       "<matplotlib.figure.Figure at 0x9d90f60>"
      ]
     },
     "metadata": {},
     "output_type": "display_data"
    }
   ],
   "source": [
    "#trend map for 4th state\n",
    "statename=df8.iloc[3]['State']\n",
    "statemultiplier=df8.iloc[3]['multiplier']\n",
    "trend_df=df31.loc[df31['user_location'] == statename]\n",
    "df31['number of fake tweets']= pd.to_numeric(df31['number of fake tweets'], errors='coerce').fillna(0)\n",
    "statemultiplier=pd.to_numeric(statemultiplier)\n",
    "trend_df['activity rate'] = df31['number of fake tweets']*statemultiplier\n",
    "trend_df\n",
    "\n",
    "plot4 = trend_df.plot(x='new_date', y='activity rate',title=\"Twitter activity timeline for the story in %s.\"%(statename4),figsize=(19,4))\n",
    "plt.ylabel('Rate per thousand')\n",
    "plt.xlabel('Date')\n",
    "fig4 = plot4.get_figure()\n",
    "fig4.savefig(\"TNtrend.png\")"
   ]
  },
  {
   "cell_type": "code",
   "execution_count": 21,
   "metadata": {
    "collapsed": true
   },
   "outputs": [],
   "source": [
    "# tweeting\n",
    "import requests\n",
    "import os\n",
    "import tweepy\n",
    "from tweepy import OAuthHandler\n",
    "import pandas as pd\n",
    "import matplotlib.pyplot as plt\n",
    "\n",
    "pd.options.display.max_columns = 50\n",
    "pd.options.display.max_rows= 50\n",
    "pd.options.display.width= 120\n",
    " \n",
    "#def twitter_api():\n",
    "consumer_key = 'y1rllLjtj7UfdR0eMwlr5O1li'\n",
    "consumer_secret = 'Ctv0aHZtML6s6z5bBkKIUjgpDrsk639H1P2w9JR5DFCjdKAOaX'\n",
    "access_token = '857251563693375489-HNZiMX6DdrgTdKcYKGElVdJFMcIflZQ'\n",
    "access_secret = '2lszj0BTkXlGcmGT3kAgn8pjYh8e1DgzzzxlwjPqytqYq'\n",
    "auth = OAuthHandler(consumer_key, consumer_secret)\n",
    "auth.set_access_token(access_token, access_secret)\n",
    "api = tweepy.API(auth)\n",
    "    #return api\n",
    "    \n"
   ]
  },
  {
   "cell_type": "code",
   "execution_count": 22,
   "metadata": {
    "collapsed": true
   },
   "outputs": [],
   "source": [
    "#new_tweet = api.update_status(\"Dc missing girls watch\")"
   ]
  },
  {
   "cell_type": "code",
   "execution_count": 23,
   "metadata": {
    "collapsed": true
   },
   "outputs": [],
   "source": [
    "title=\"Trey Gowdy's custody\""
   ]
  },
  {
   "cell_type": "code",
   "execution_count": 26,
   "metadata": {
    "collapsed": false
   },
   "outputs": [],
   "source": [
    "#tweeting media\n",
    "filename = 'state_wise_trend_chart2.png'\n",
    "message= \"Check out which four states are tweeting the most about in %s\"%(title)\n",
    "new_pic =  api.update_with_media(filename,message)"
   ]
  },
  {
   "cell_type": "code",
   "execution_count": 27,
   "metadata": {
    "collapsed": false
   },
   "outputs": [],
   "source": [
    "#tweeting to state2\n",
    "filename2 = 'NVtrend2.png'\n",
    "#message2= \"@%s Trend of DC missing girls in Maryland.\"%(reporter1)\n",
    "mssg20=\"Hey %s! People in %s are tweeting more than any other state about %s -- a false story!\"%(reporter2,statename1,title)\n",
    "new_pic2 =  api.update_with_media(filename2,mssg20)"
   ]
  },
  {
   "cell_type": "code",
   "execution_count": null,
   "metadata": {
    "collapsed": true
   },
   "outputs": [],
   "source": []
  }
 ],
 "metadata": {
  "anaconda-cloud": {},
  "kernelspec": {
   "display_name": "Python [default]",
   "language": "python",
   "name": "python2"
  },
  "language_info": {
   "codemirror_mode": {
    "name": "ipython",
    "version": 2
   },
   "file_extension": ".py",
   "mimetype": "text/x-python",
   "name": "python",
   "nbconvert_exporter": "python",
   "pygments_lexer": "ipython2",
   "version": "2.7.12"
  }
 },
 "nbformat": 4,
 "nbformat_minor": 1
}
