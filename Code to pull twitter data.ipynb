{
 "cells": [
  {
   "cell_type": "code",
   "execution_count": 5,
   "metadata": {
    "collapsed": true
   },
   "outputs": [],
   "source": [
    "import tweepy\n",
    "from tweepy import OAuthHandler\n",
    "import pandas as pd\n",
    "import matplotlib.pyplot as plt\n",
    "\n",
    "pd.options.display.max_columns = 50\n",
    "pd.options.display.max_rows= 50\n",
    "pd.options.display.width= 120\n",
    " \n",
    "consumer_key = ''\n",
    "consumer_secret = ''\n",
    "access_token = ''\n",
    "access_secret = ''\n",
    " \n",
    "auth = OAuthHandler(consumer_key, consumer_secret)\n",
    "auth.set_access_token(access_token, access_secret)\n",
    " \n",
    "api = tweepy.API(auth)"
   ]
  },
  {
   "cell_type": "code",
   "execution_count": 14,
   "metadata": {
    "collapsed": false
   },
   "outputs": [
    {
     "name": "stdout",
     "output_type": "stream",
     "text": [
      "938\n"
     ]
    }
   ],
   "source": [
    "# Extract 2000 tweets based on the keyword\n",
    "results = []\n",
    "i=0\n",
    "#put keywords in the quotes for finding tweets\n",
    "for tweet in tweepy.Cursor(api.search, q='DC missing girls ', lang=\"en\").items():\n",
    "    results.append(tweet)\n",
    "    id = tweet.id\n",
    "    i=i+1\n",
    "    if i==2000:\n",
    "        break\n",
    "        \n",
    "print len(results)"
   ]
  },
  {
   "cell_type": "code",
   "execution_count": 18,
   "metadata": {
    "collapsed": true
   },
   "outputs": [],
   "source": [
    "# Store the tweets in a dataframe\n",
    "def process_results(results):\n",
    "    id_list = [tweet.id for tweet in results]\n",
    "    data_set = pd.DataFrame(id_list, columns=[\"id\"])\n",
    "\n",
    "    # Processing Tweet Data\n",
    "\n",
    "    data_set[\"text\"] = [tweet.text for tweet in results]\n",
    "    data_set[\"created_at\"] = [tweet.created_at for tweet in results]\n",
    "    data_set[\"retweet_count\"] = [tweet.retweet_count for tweet in results]\n",
    "    data_set[\"favorite_count\"] = [tweet.favorite_count for tweet in results]\n",
    "    data_set[\"source\"] = [tweet.source for tweet in results]\n",
    "\n",
    "    # Processing User Data\n",
    "    data_set[\"user_id\"] = [tweet.author.id for tweet in results]\n",
    "    data_set[\"user_screen_name\"] = [tweet.author.screen_name for tweet in results]\n",
    "    data_set[\"user_name\"] = [tweet.author.name for tweet in results]\n",
    "    data_set[\"user_created_at\"] = [tweet.author.created_at for tweet in results]\n",
    "    data_set[\"user_description\"] = [tweet.author.description for tweet in results]\n",
    "    data_set[\"user_followers_count\"] = [tweet.author.followers_count for tweet in results]\n",
    "    data_set[\"user_friends_count\"] = [tweet.author.friends_count for tweet in results]\n",
    "    data_set[\"user_location\"] = [tweet.author.location for tweet in results]\n",
    "    data_set[\"geo_enabled\"] = [tweet.author.geo_enabled for tweet in results]\n",
    "    data_set[\"time_zone\"] = [tweet.author.time_zone for tweet in results]\n",
    "\n",
    "    return data_set\n",
    "data_set = process_results(results)"
   ]
  },
  {
   "cell_type": "code",
   "execution_count": 20,
   "metadata": {
    "collapsed": true
   },
   "outputs": [],
   "source": [
    "# Save the dataframe in a csv\n",
    "#keep changing name of this csv file inorder to save it in different files and also to prevent overwritting\n",
    "data_set.to_csv(\"DC missing girls.csv\", index=False, encoding='utf-8')\n",
    "\n",
    "# Repeat the process for all tweets"
   ]
  },
  {
   "cell_type": "code",
   "execution_count": null,
   "metadata": {
    "collapsed": true
   },
   "outputs": [],
   "source": []
  }
 ],
 "metadata": {
  "anaconda-cloud": {},
  "kernelspec": {
   "display_name": "Python [default]",
   "language": "python",
   "name": "python2"
  },
  "language_info": {
   "codemirror_mode": {
    "name": "ipython",
    "version": 2
   },
   "file_extension": ".py",
   "mimetype": "text/x-python",
   "name": "python",
   "nbconvert_exporter": "python",
   "pygments_lexer": "ipython2",
   "version": "2.7.12"
  }
 },
 "nbformat": 4,
 "nbformat_minor": 1
}
